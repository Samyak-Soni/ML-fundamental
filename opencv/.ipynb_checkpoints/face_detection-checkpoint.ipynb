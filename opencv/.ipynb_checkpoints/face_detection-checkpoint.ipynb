{
 "cells": [
  {
   "cell_type": "code",
   "execution_count": 2,
   "metadata": {},
   "outputs": [],
   "source": [
    "import cv2"
   ]
  },
  {
   "cell_type": "code",
   "execution_count": 3,
   "metadata": {},
   "outputs": [],
   "source": [
    "face_cascade = cv2.CascadeClassifier('haarcascade_frontalface_default.xml')  # Load the cascade\n",
    "eye_cascade = cv2.CascadeClassifier('haarcascade_eye.xml')\n",
    "cap = cv2.VideoCapture(0)     # To capture video from webcam. \n",
    "# To use a video file as input \n",
    "# cap = cv2.VideoCapture('filename.mp4')"
   ]
  },
  {
   "cell_type": "code",
   "execution_count": 7,
   "metadata": {},
   "outputs": [],
   "source": [
    "while True:\n",
    "    ret, img = cap.read()    # Read the frame\n",
    "    gray = cv2.cvtColor(img, cv2.COLOR_BGR2GRAY)  # Convert to grayscale\n",
    "    faces = face_cascade.detectMultiScale(gray, 1.3, 5)  # Detect the faces\n",
    "    \n",
    "    for (x,y,w,h) in faces:       #for making a rectangle around the detected faces\n",
    "        cv2.rectangle(img,(x,y), (x+w, y+h), (255,255,0), 2)\n",
    "    \n",
    "    roi_gray = gray[y:y+h, x:x+w]\n",
    "    roi_color = img[y:y+h, x:x+w]\n",
    "        \n",
    "    eyes = eye_cascade.detectMultiScale(roi_gray)    #detect the eyes\n",
    "        \n",
    "    for (ex, ey, ew, eh) in eyes:   #for making a rectangle around the detected eyes\n",
    "        cv2.rectangle(roi_color, (ex, ey), (ex+ew, ey+eh), (0, 127, 255), 2)\n",
    "        \n",
    "    cv2.imshow('img', img)     # this will make a window appear\n",
    "        \n",
    "    k = cv2.waitKey(30) & 0xff  #this is used to break out of the loop or program\n",
    "        \n",
    "    if k == 27:\n",
    "        break\n",
    "\n",
    "\n",
    "cap.release()\n",
    "cv2.waitKey(0)     #this is the waiting time for the window\n",
    "cv2.destroyAllWindows()"
   ]
  },
  {
   "cell_type": "code",
   "execution_count": null,
   "metadata": {},
   "outputs": [],
   "source": []
  }
 ],
 "metadata": {
  "kernelspec": {
   "display_name": "Python 3",
   "language": "python",
   "name": "python3"
  },
  "language_info": {
   "codemirror_mode": {
    "name": "ipython",
    "version": 3
   },
   "file_extension": ".py",
   "mimetype": "text/x-python",
   "name": "python",
   "nbconvert_exporter": "python",
   "pygments_lexer": "ipython3",
   "version": "3.7.6"
  }
 },
 "nbformat": 4,
 "nbformat_minor": 4
}
