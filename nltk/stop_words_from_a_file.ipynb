{
 "cells": [
  {
   "cell_type": "code",
   "execution_count": 1,
   "metadata": {},
   "outputs": [],
   "source": [
    "import io\n",
    "from nltk.corpus import stopwords as st\n",
    "from nltk.tokenize import word_tokenize as wt"
   ]
  },
  {
   "cell_type": "code",
   "execution_count": 2,
   "metadata": {},
   "outputs": [],
   "source": [
    "stop_words = set(st.words('english')) #setting the language of words\n",
    "file = open(\"text.txt\") #open the text file\n",
    "\n",
    "line = file.read() #all the content in file will get copied in line\n",
    "words = line.split() #this will split all words from line to words\n",
    "\n",
    "for w in words:                                       #here we'll check if words are not in stop_words then appen in file\n",
    "    if w not in stop_words:\n",
    "        append_file = open('filtered_text.txt', 'a') \n",
    "        append_file.write(\" \" + w)                    #this will append the cleared statement in the filtered_text file which you have to create\n",
    "        append_file.close()\n",
    "        \n"
   ]
  }
 ],
 "metadata": {
  "kernelspec": {
   "display_name": "Python 3",
   "language": "python",
   "name": "python3"
  },
  "language_info": {
   "codemirror_mode": {
    "name": "ipython",
    "version": 3
   },
   "file_extension": ".py",
   "mimetype": "text/x-python",
   "name": "python",
   "nbconvert_exporter": "python",
   "pygments_lexer": "ipython3",
   "version": "3.7.6"
  }
 },
 "nbformat": 4,
 "nbformat_minor": 4
}
