{
 "cells": [
  {
   "cell_type": "code",
   "execution_count": 1,
   "metadata": {},
   "outputs": [],
   "source": [
    "from nltk.corpus import stopwords as st\n",
    "from nltk.tokenize import word_tokenize as wt"
   ]
  },
  {
   "cell_type": "code",
   "execution_count": 2,
   "metadata": {},
   "outputs": [
    {
     "name": "stdout",
     "output_type": "stream",
     "text": [
      "Enter a text to be free of bag of words: a big brown fox jumps over the lazy dog\n",
      "['a', 'big', 'brown', 'fox', 'jumps', 'over', 'the', 'lazy', 'dog']\n",
      "['big', 'brown', 'fox', 'jumps', 'lazy', 'dog']\n"
     ]
    }
   ],
   "source": [
    "text = str(input(\"Enter a text to be free of bag of words: \")) #taking input for a statement\n",
    "stop_words = set(st.words('english')) #setting the language of words\n",
    "word_tokens = wt(text) #here we set all words as tokens\n",
    "\n",
    "filtered_text = [] #empty list to store the final statement.\n",
    "\n",
    "for w in word_tokens:  # filtered_text = [w for w in word_tokens if not w in stop_words] you can also use instead of the loop\n",
    "    if w not in stop_words:\n",
    "        filtered_text.append(w)\n",
    "        \n",
    "print(word_tokens)\n",
    "print(filtered_text)"
   ]
  },
  {
   "cell_type": "code",
   "execution_count": null,
   "metadata": {},
   "outputs": [],
   "source": []
  }
 ],
 "metadata": {
  "kernelspec": {
   "display_name": "Python 3",
   "language": "python",
   "name": "python3"
  },
  "language_info": {
   "codemirror_mode": {
    "name": "ipython",
    "version": 3
   },
   "file_extension": ".py",
   "mimetype": "text/x-python",
   "name": "python",
   "nbconvert_exporter": "python",
   "pygments_lexer": "ipython3",
   "version": "3.7.6"
  }
 },
 "nbformat": 4,
 "nbformat_minor": 4
}
