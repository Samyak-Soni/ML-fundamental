{
 "cells": [
  {
   "cell_type": "markdown",
   "metadata": {},
   "source": [
    "# performing neural network with numpy"
   ]
  },
  {
   "cell_type": "code",
   "execution_count": 2,
   "metadata": {},
   "outputs": [],
   "source": [
    "# here we are going are import numpy and \n",
    "from joblib.numpy_pickle_utils import xrange \n",
    "from numpy import *"
   ]
  },
  {
   "cell_type": "code",
   "execution_count": 3,
   "metadata": {},
   "outputs": [],
   "source": [
    "class NeuralNet(object):\n",
    "    def __init__(self):\n",
    "        random.seed(1)      #this will generate random numbers\n",
    "        self.synaptic_weights= 2 * random.random((3,1)) - 1    #assign those random weights to a 3x1 matrix\n",
    "        \n",
    "    def __sigmoid(self, x):      #This function will normalise the result between 0 and 1 \n",
    "        return 1 / (1 + exp(-x))\n",
    "    \n",
    "    def __sigmoid_derivative(self, x): \n",
    "        return x * (1 - x)\n",
    "    \n",
    "    def train(self, inputs, outputs, training_iterations):\n",
    "        for iterations in xrange(training_iterations):\n",
    "            output =  self.learn(inputs)\n",
    "            error = outputs - output #here we'll calculate if any error and then adjust the weight accordingly\n",
    "            factor = dot(inputs.T, error * self.__sigmoid_derivative(output))\n",
    "            self.synaptic_weights += factor\n",
    "    \n",
    "    def learn(self, inputs):  #here the neural network will think \n",
    "        return self.__sigmoid(dot(inputs, self.synaptic_weights))\n",
    "    \n"
   ]
  },
  {
   "cell_type": "code",
   "execution_count": 10,
   "metadata": {},
   "outputs": [
    {
     "name": "stdout",
     "output_type": "stream",
     "text": [
      "[0.9897704]\n"
     ]
    }
   ],
   "source": [
    "if __name__ == \"__main__\":\n",
    "    neural_network = NeuralNet()\n",
    "    inputs = array([[0, 1, 1], [1, 0, 0], [1, 0, 1]])\n",
    "    outputs = array([[1, 0, 1]]).T #here .T will transpose the given array ant the output will ne same but it does the work\n",
    "    neural_network.train(inputs, outputs, 10000)\n",
    "    print(neural_network.learn(array([1, 0, 1])))"
   ]
  },
  {
   "cell_type": "code",
   "execution_count": null,
   "metadata": {},
   "outputs": [],
   "source": []
  }
 ],
 "metadata": {
  "kernelspec": {
   "display_name": "Python 3",
   "language": "python",
   "name": "python3"
  },
  "language_info": {
   "codemirror_mode": {
    "name": "ipython",
    "version": 3
   },
   "file_extension": ".py",
   "mimetype": "text/x-python",
   "name": "python",
   "nbconvert_exporter": "python",
   "pygments_lexer": "ipython3",
   "version": "3.7.6"
  }
 },
 "nbformat": 4,
 "nbformat_minor": 4
}
